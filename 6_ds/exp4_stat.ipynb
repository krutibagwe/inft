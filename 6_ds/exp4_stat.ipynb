{
  "nbformat": 4,
  "nbformat_minor": 0,
  "metadata": {
    "colab": {
      "provenance": []
    },
    "kernelspec": {
      "name": "python3",
      "display_name": "Python 3"
    },
    "language_info": {
      "name": "python"
    }
  },
  "cells": [
    {
      "cell_type": "markdown",
      "source": [
        "Kruti Bagwe Roll no. 05 TE INFT-A Batch-1"
      ],
      "metadata": {
        "id": "N5b_4QnblHum"
      }
    },
    {
      "cell_type": "markdown",
      "source": [
        "# **Experiment-4 Statistical Hypothesis Tests**"
      ],
      "metadata": {
        "id": "ClpaH_V45Wkz"
      }
    },
    {
      "cell_type": "code",
      "execution_count": null,
      "metadata": {
        "colab": {
          "base_uri": "https://localhost:8080/"
        },
        "id": "MmHmP3Wb4_zP",
        "outputId": "018d14ae-4705-4a37-88b2-9129a77e02b6"
      },
      "outputs": [
        {
          "output_type": "stream",
          "name": "stdout",
          "text": [
            "[45, 89, 23, 46, 12, 69, 45, 24, 34, 67]\n",
            "45.4\n",
            "P-value is:  0.07179988272763561\n",
            "We can accept the null hypothesis\n"
          ]
        }
      ],
      "source": [
        "# Python program to implement T-Test on a sample of ages\n",
        "\n",
        "# Importing the required libraries\n",
        "from scipy.stats import ttest_1samp\n",
        "import numpy as np\n",
        "\n",
        "# Creating a sample of ages\n",
        "ages = [45, 89, 23, 46, 12, 69, 45, 24, 34, 67]\n",
        "print(ages)\n",
        "\n",
        "# Calculating the mean of the sample\n",
        "mean = np.mean(ages)\n",
        "print(mean)\n",
        "\n",
        "# Performing the T-Test\n",
        "t_test, p_val = ttest_1samp(ages, 30)\n",
        "print(\"P-value is: \", p_val)\n",
        "\n",
        "# taking the threshold value as 0.05 or 5%\n",
        "if p_val < 0.05:\n",
        "    print(\" We can reject the null hypothesis\")\n",
        "else:\n",
        "    print(\"We can accept the null hypothesis\")"
      ]
    },
    {
      "cell_type": "code",
      "source": [
        "# Python program to implement Independent T-Test on the two independent samples\n",
        "\n",
        "# Importing the required libraries\n",
        "from scipy.stats import ttest_ind\n",
        "import numpy as np\n",
        "\n",
        "# Creating the data groups\n",
        "data_group1 = np.array([12, 18, 12, 13, 15, 1, 7,\n",
        "                        20, 21, 25, 19, 31, 21, 17,\n",
        "                        17, 15, 19, 15, 12, 15])\n",
        "data_group2 = np.array([23, 22, 24, 25, 21, 26, 21,\n",
        "                        21, 25, 30, 24, 21, 23, 19,\n",
        "                        14, 18, 14, 12, 19, 15])\n",
        "\n",
        "# Calculating the mean of the two data groups\n",
        "mean1 = np.mean(data_group1)\n",
        "mean2 = np.mean(data_group2)\n",
        "\n",
        "# Print mean values\n",
        "print(\"Data group 1 mean value:\", mean1)\n",
        "print(\"Data group 2 mean value:\", mean2)\n",
        "\n",
        "# Calculating standard deviation\n",
        "std1 = np.std(data_group1)\n",
        "std2 = np.std(data_group2)\n",
        "\n",
        "# Printing standard deviation values\n",
        "print(\"Data group 1 std value:\", std1)\n",
        "print(\"Data group 2 std value:\", std2)\n",
        "\n",
        "# Implementing the t-test\n",
        "t_test,p_val = ttest_ind(data_group1, data_group2)\n",
        "print(\"The P-value is: \", p_val)\n",
        "\n",
        "# taking the threshold value as 0.05 or 5%\n",
        "if p_val < 0.05:\n",
        "    print(\"We can reject the null hypothesis\")\n",
        "else:\n",
        "    print(\"We can accept the null hypothesis\")"
      ],
      "metadata": {
        "colab": {
          "base_uri": "https://localhost:8080/"
        },
        "id": "YXRiJgiv5ugJ",
        "outputId": "2decc788-51cd-40c9-b74a-7213bf253c1d"
      },
      "execution_count": null,
      "outputs": [
        {
          "output_type": "stream",
          "name": "stdout",
          "text": [
            "Data group 1 mean value: 16.25\n",
            "Data group 2 mean value: 20.85\n",
            "Data group 1 std value: 6.171507109288622\n",
            "Data group 2 std value: 4.452808102759426\n",
            "The P-value is:  0.012117171124028792\n",
            "We can reject the null hypothesis\n"
          ]
        }
      ]
    },
    {
      "cell_type": "code",
      "source": [
        "# Python program to implement Paired Sample T-Test on the two dependent samples\n",
        "\n",
        "# Importing the required libraries\n",
        "import pandas as pd\n",
        "from scipy import stats\n",
        "\n",
        "# Creating two samples\n",
        "sample1 = [29, 30, 33, 41, 38, 36,\n",
        "       35, 31, 29, 30]\n",
        "sample2 = [31, 32, 33, 39, 30, 33,\n",
        "        30, 28, 29, 31]\n",
        "\n",
        "# Performing paired sample t-test\n",
        "t_test, p_val = stats.ttest_rel(sample1, sample2)\n",
        "print(\"The P-value of the test is: \", p_val)\n",
        "\n",
        "# taking the threshold value as 0.05 or 5%\n",
        "if p_val < 0.05:\n",
        "    print(\"We can reject the null hypothesis\")\n",
        "else:\n",
        "    print(\"We can accept the null hypothesis\")"
      ],
      "metadata": {
        "colab": {
          "base_uri": "https://localhost:8080/"
        },
        "id": "hkNGHX7B6IAh",
        "outputId": "9b9b6312-6d7a-45a0-fdfb-20df272984cf"
      },
      "execution_count": null,
      "outputs": [
        {
          "output_type": "stream",
          "name": "stdout",
          "text": [
            "The P-value of the test is:  0.15266056244408904\n",
            "We can accept the null hypothesis\n"
          ]
        }
      ]
    },
    {
      "cell_type": "code",
      "source": [
        "# Python program to implement One Sample Z-Test\n",
        "\n",
        "# Importing the required libraries\n",
        "import pandas as pd\n",
        "from scipy import stats\n",
        "from statsmodels.stats import weightstats as stests\n",
        "\n",
        "# Creating a dataset\n",
        "data = [89, 93, 95, 93, 97, 98, 96, 99, 93, 97,\n",
        "        110, 104, 119, 105, 104, 110, 110, 112, 115, 114]\n",
        "\n",
        "# Performing the z-test\n",
        "z_test ,p_val = stests.ztest(data, x2 = None, value = 160)\n",
        "print(p_val)\n",
        "\n",
        "# taking the threshold value as 0.05 or 5%\n",
        "if p_val < 0.05:\n",
        "    print(\"We can reject the null hypothesis\")\n",
        "else:\n",
        "    print(\"We can accept the null hypothesis\")"
      ],
      "metadata": {
        "colab": {
          "base_uri": "https://localhost:8080/"
        },
        "id": "COMUa_De62lq",
        "outputId": "c484b1b5-7ad2-4fbe-fab2-1e9d53d24e2f"
      },
      "execution_count": null,
      "outputs": [
        {
          "output_type": "stream",
          "name": "stdout",
          "text": [
            "2.417334226169332e-186\n",
            "We can reject the null hypothesis\n"
          ]
        }
      ]
    },
    {
      "cell_type": "code",
      "source": [
        "# Python program to implement Two Sample Z-Test\n",
        "\n",
        "# Importing the required libraries\n",
        "import pandas as pd\n",
        "from scipy import stats\n",
        "from statsmodels.stats import weightstats as stests\n",
        "\n",
        "# Creating a dataset\n",
        "data1 = [83, 85, 86, 90, 90, 93, 93, 95, 97, 97,\n",
        "         106, 108, 106, 108, 111, 113, 113, 112, 116, 111]\n",
        "\n",
        "data2 = [92, 92, 90, 93, 93, 97, 94, 98, 109, 108,\n",
        "         110, 117, 110, 115, 114, 114, 130, 130, 149, 131]\n",
        "\n",
        "# Implementing the two-sample z-test\n",
        "z_test ,p_val = stests.ztest(data1, x2 = data2, value = 0, alternative = 'two-sided')\n",
        "print(p_val)\n",
        "\n",
        "# taking the threshold value as 0.05 or 5%\n",
        "if p_val < 0.05:\n",
        "    print(\"We can reject the null hypothesis\")\n",
        "else:\n",
        "    print(\"We can accept the null hypothesis\")"
      ],
      "metadata": {
        "colab": {
          "base_uri": "https://localhost:8080/"
        },
        "id": "Mvglgf1H7FcZ",
        "outputId": "3d5acec7-77b0-46aa-8051-258495241a5c"
      },
      "execution_count": null,
      "outputs": [
        {
          "output_type": "stream",
          "name": "stdout",
          "text": [
            "0.04813782199434202\n",
            "We can reject the null hypothesis\n"
          ]
        }
      ]
    },
    {
      "cell_type": "code",
      "source": [
        "# Python program to implement One-Way f-test\n",
        "\n",
        "# Importing the required libraries\n",
        "import scipy.stats\n",
        "\n",
        "# Creating sample data\n",
        "data1 = [0.0842, 0.0368, 0.0847, 0.0935, 0.0376, 0.0963, 0.0684,\n",
        "             0.0758, 0.0854, 0.0855]\n",
        "data2 = [0.0785, 0.0845, 0.0758, 0.0853, 0.0946, 0.0785, 0.0853,\n",
        "           0.0685]\n",
        "data3 = [0.0864, 0.2522, 0.0894, 0.2724, 0.0853, 0.1367, 0.853]\n",
        "\n",
        "# Performing the F-Test\n",
        "f_test, p_val = scipy.stats.f_oneway(data1, data2, data3)\n",
        "print(\"p-value is: \", p_val)\n",
        "\n",
        "# taking the threshold value as 0.05 or 5%\n",
        "if p_val < 0.05:\n",
        "    print(\" We can reject the null hypothesis\")\n",
        "else:\n",
        "    print(\"We can accept the null hypothesis\")"
      ],
      "metadata": {
        "colab": {
          "base_uri": "https://localhost:8080/"
        },
        "id": "9-WqpL1S7Kvx",
        "outputId": "5580e742-4557-447c-ec36-fe1e441fc608"
      },
      "execution_count": null,
      "outputs": [
        {
          "output_type": "stream",
          "name": "stdout",
          "text": [
            "p-value is:  0.04043792126789144\n",
            " We can reject the null hypothesis\n"
          ]
        }
      ]
    },
    {
      "cell_type": "code",
      "source": [
        "# Python program to perform 2-way F-test\n",
        "\n",
        "# Importing the required modules\n",
        "import pandas as pd\n",
        "import numpy as np\n",
        "import statsmodels.api as sm\n",
        "from statsmodels.formula.api import ols\n",
        "\n",
        "# Create a dataframe\n",
        "df = pd.DataFrame({'Frequency_fertilizers': np.repeat(['daily', 'weekly'], 16),\n",
        "                          'Frequency_Watering': np.repeat(['daily', 'weekly'], 16),\n",
        "                          'Crop_height': [12, 14, 15, 12, 17, 21, 19, 8,\n",
        "                                          5, 12, 19, 23, 23, 14, 16, 21,\n",
        "                                          25, 16, 17, 13, 24, 9, 19, 4,\n",
        "                                          12, 14, 15, 12, 17, 15, 18, 14]})\n",
        "\n",
        "\n",
        "# Performing the two-way ANOVA test\n",
        "f_test = ols('Crop_height ~ C(Frequency_fertilizers) * C(Frequency_Watering)', data = df).fit()\n",
        "result = sm.stats.anova_lm(f_test, type = 2)\n",
        "\n",
        "# Printing the result\n",
        "print(result)"
      ],
      "metadata": {
        "colab": {
          "base_uri": "https://localhost:8080/"
        },
        "id": "xIae8GI47f7x",
        "outputId": "3f9bb51c-4ab9-4a7c-b3fd-57c637fa6fcb"
      },
      "execution_count": null,
      "outputs": [
        {
          "output_type": "stream",
          "name": "stdout",
          "text": [
            "                                                  df      sum_sq     mean_sq  \\\n",
            "C(Frequency_fertilizers)                         1.0    1.531250    1.531250   \n",
            "C(Frequency_Watering)                            1.0  117.945205  117.945205   \n",
            "C(Frequency_fertilizers):C(Frequency_Watering)   1.0    1.643988    1.643988   \n",
            "Residual                                        30.0  802.437500   26.747917   \n",
            "\n",
            "                                                       F    PR(>F)  \n",
            "C(Frequency_fertilizers)                        0.057247  0.812528  \n",
            "C(Frequency_Watering)                           4.409510  0.044253  \n",
            "C(Frequency_fertilizers):C(Frequency_Watering)  0.061462  0.805889  \n",
            "Residual                                             NaN       NaN  \n"
          ]
        }
      ]
    },
    {
      "cell_type": "code",
      "source": [
        "# Python program to perform a chi-square test\n",
        "\n",
        "# Importing the required modules\n",
        "from scipy.stats import chi2_contingency\n",
        "\n",
        "# defining our data\n",
        "data = [[231, 256, 321], [245, 312, 213]]\n",
        "\n",
        "# Performing chi-square test\n",
        "test, p_val, dof, expected_val = chi2_contingency(data)\n",
        "\n",
        "# interpreting the p-value\n",
        "alpha = 0.05\n",
        "print(\"The p-value of our test is \" + str(p_val))\n",
        "\n",
        "# Checking the hypothesis\n",
        "if p_val <= alpha:\n",
        "    print('We can reject the null hypothesis')\n",
        "else:\n",
        "    print('We can accept the null hypothesis')"
      ],
      "metadata": {
        "colab": {
          "base_uri": "https://localhost:8080/"
        },
        "id": "u7U9_ohI8HaS",
        "outputId": "d8275aae-ea57-4763-e5f1-89ec511477a4"
      },
      "execution_count": null,
      "outputs": [
        {
          "output_type": "stream",
          "name": "stdout",
          "text": [
            "The p-value of our test is 1.4585823594475804e-06\n",
            "We can reject the null hypothesis\n"
          ]
        }
      ]
    },
    {
      "cell_type": "code",
      "source": [
        "# Python program to implement Mann-Whitney U Test\n",
        "\n",
        "# Importing the required dataset\n",
        "from scipy.stats import mannwhitneyu\n",
        "\n",
        "# Creating the dataset\n",
        "data1 = [0.978, 2.792, 0.248, -0.820, -0.102, -1.203, 0.102, -1.392, -1.395, -1.928]\n",
        "data2 = [1.283, -0.284, -0.821, -0.792, -0.793, -0.294, 0.600, 1.294, -1.183, -0.284]\n",
        "\n",
        "# Implementing the test\n",
        "k_test, p_val = mannwhitneyu(data1, data2)\n",
        "print(\"P-value is: \", p_val)\n",
        "\n",
        "# taking the threshold value as 0.05 or 5%\n",
        "if p_val < 0.05:\n",
        "    print(\" We can reject the null hypothesis\")\n",
        "else:\n",
        "    print(\"We can accept the null hypothesis\")"
      ],
      "metadata": {
        "colab": {
          "base_uri": "https://localhost:8080/"
        },
        "id": "Q9ncHxQ-8J8J",
        "outputId": "511d4233-91a6-4e37-faa8-ee51536e81b9"
      },
      "execution_count": null,
      "outputs": [
        {
          "output_type": "stream",
          "name": "stdout",
          "text": [
            "P-value is:  0.520366020896531\n",
            "We can accept the null hypothesis\n"
          ]
        }
      ]
    },
    {
      "cell_type": "code",
      "source": [
        "# Python program to implement Wilcoxon Signed-Rank Test\n",
        "\n",
        "# Importing the required dataset\n",
        "from scipy.stats import wilcoxon\n",
        "\n",
        "# Creating the dataset\n",
        "data1 = [0.978, 2.792, 0.248, -0.820, -0.102, -1.203, 0.102, -1.392, -1.395, -1.928]\n",
        "data2 = [1.283, -0.284, -0.821, -0.792, -0.793, -0.294, 0.600, 1.294, -1.183, -0.284]\n",
        "\n",
        "# Implementing the test\n",
        "w_test, p_val = wilcoxon(data1, data2)\n",
        "print(\"P-value is: \", p_val)\n",
        "\n",
        "# taking the threshold value as 0.05 or 5%\n",
        "if p_val < 0.05:\n",
        "    print(\" We can reject the null hypothesis\")\n",
        "else:\n",
        "    print(\"We can accept the null hypothesis\")"
      ],
      "metadata": {
        "colab": {
          "base_uri": "https://localhost:8080/"
        },
        "id": "gWgKCsAR8Qtp",
        "outputId": "6ff31694-08ce-4d71-f82f-800a68d25f2d"
      },
      "execution_count": null,
      "outputs": [
        {
          "output_type": "stream",
          "name": "stdout",
          "text": [
            "P-value is:  0.625\n",
            "We can accept the null hypothesis\n"
          ]
        }
      ]
    },
    {
      "cell_type": "code",
      "source": [
        "# Python program to implement Kruskal-Wallis H Test\n",
        "\n",
        "# Importing the required dataset\n",
        "from scipy.stats import kruskal\n",
        "\n",
        "# Creating the dataset\n",
        "data1 = [0.978, 2.792, 0.248, -0.820, -0.102, -1.203, 0.102, -1.392, -1.395, -1.928]\n",
        "data2 = [1.283, -0.284, -0.821, -0.792, -0.793, -0.294, 0.600, 1.294, -1.183, -0.284]\n",
        "\n",
        "# Implementing the test\n",
        "k_test, p_val = kruskal(data1, data2)\n",
        "print(\"P-value is: \", p_val)\n",
        "\n",
        "# taking the threshold value as 0.05 or 5%\n",
        "if p_val < 0.05:\n",
        "    print(\" We can reject the null hypothesis\")\n",
        "else:\n",
        "    print(\"We can accept the null hypothesis\")"
      ],
      "metadata": {
        "colab": {
          "base_uri": "https://localhost:8080/"
        },
        "id": "w_1rePYt8SiB",
        "outputId": "e0290a91-932f-47c9-f3f5-3e102fd8fd38"
      },
      "execution_count": null,
      "outputs": [
        {
          "output_type": "stream",
          "name": "stdout",
          "text": [
            "P-value is:  0.49612971494281877\n",
            "We can accept the null hypothesis\n"
          ]
        }
      ]
    },
    {
      "cell_type": "code",
      "source": [
        "# Python program to implement Friedman Test\n",
        "\n",
        "# Importing the required dataset\n",
        "from scipy.stats import friedmanchisquare\n",
        "\n",
        "# Creating the dataset\n",
        "data1 = [0.978, 2.792, 0.248, -0.820, -0.102, -1.203, 0.102, -1.392, -1.395, -1.928]\n",
        "data2 = [1.283, -0.284, -0.821, -0.792, -0.793, -0.294, 1.100, 0.294, -0.183, -1.284]\n",
        "data3 = [-0.324, 1.346, 1.148, -1.258, -0.233, 0.749, 0.157, 0.529, -0.240, -1.254]\n",
        "\n",
        "# Implementing the test\n",
        "f_test, p_val = friedmanchisquare(data1, data2, data3)\n",
        "print(\"P-value is: \", p_val)\n",
        "\n",
        "# taking the threshold value as 0.05 or 5%\n",
        "if p_val < 0.05:\n",
        "    print(\" We can reject the null hypothesis\")\n",
        "else:\n",
        "    print(\"We can accept the null hypothesis\")"
      ],
      "metadata": {
        "colab": {
          "base_uri": "https://localhost:8080/"
        },
        "id": "ATavD_5n8bbx",
        "outputId": "0702cdd8-8294-413d-dfd0-af89e77a013b"
      },
      "execution_count": null,
      "outputs": [
        {
          "output_type": "stream",
          "name": "stdout",
          "text": [
            "P-value is:  0.496585303791408\n",
            "We can accept the null hypothesis\n"
          ]
        }
      ]
    },
    {
      "cell_type": "markdown",
      "source": [
        "# **Diameter Dataset**"
      ],
      "metadata": {
        "id": "eYdJF1Ewg9v9"
      }
    },
    {
      "cell_type": "code",
      "source": [
        "# Collect data\n",
        "import pandas as pd\n",
        "data = pd.read_csv('diameter.csv')\n",
        "data.head()"
      ],
      "metadata": {
        "colab": {
          "base_uri": "https://localhost:8080/",
          "height": 206
        },
        "id": "IQZNuZqggaU2",
        "outputId": "e8c31a4e-b0ee-4be0-f194-86576c309ef2"
      },
      "execution_count": null,
      "outputs": [
        {
          "output_type": "execute_result",
          "data": {
            "text/plain": [
              "   Diameter\n",
              "0    6.7703\n",
              "1    7.5093\n",
              "2    6.7300\n",
              "3    6.7878\n",
              "4    7.1522"
            ],
            "text/html": [
              "\n",
              "  <div id=\"df-ef45bc37-6e04-487b-9c13-7478acdebe48\" class=\"colab-df-container\">\n",
              "    <div>\n",
              "<style scoped>\n",
              "    .dataframe tbody tr th:only-of-type {\n",
              "        vertical-align: middle;\n",
              "    }\n",
              "\n",
              "    .dataframe tbody tr th {\n",
              "        vertical-align: top;\n",
              "    }\n",
              "\n",
              "    .dataframe thead th {\n",
              "        text-align: right;\n",
              "    }\n",
              "</style>\n",
              "<table border=\"1\" class=\"dataframe\">\n",
              "  <thead>\n",
              "    <tr style=\"text-align: right;\">\n",
              "      <th></th>\n",
              "      <th>Diameter</th>\n",
              "    </tr>\n",
              "  </thead>\n",
              "  <tbody>\n",
              "    <tr>\n",
              "      <th>0</th>\n",
              "      <td>6.7703</td>\n",
              "    </tr>\n",
              "    <tr>\n",
              "      <th>1</th>\n",
              "      <td>7.5093</td>\n",
              "    </tr>\n",
              "    <tr>\n",
              "      <th>2</th>\n",
              "      <td>6.7300</td>\n",
              "    </tr>\n",
              "    <tr>\n",
              "      <th>3</th>\n",
              "      <td>6.7878</td>\n",
              "    </tr>\n",
              "    <tr>\n",
              "      <th>4</th>\n",
              "      <td>7.1522</td>\n",
              "    </tr>\n",
              "  </tbody>\n",
              "</table>\n",
              "</div>\n",
              "    <div class=\"colab-df-buttons\">\n",
              "\n",
              "  <div class=\"colab-df-container\">\n",
              "    <button class=\"colab-df-convert\" onclick=\"convertToInteractive('df-ef45bc37-6e04-487b-9c13-7478acdebe48')\"\n",
              "            title=\"Convert this dataframe to an interactive table.\"\n",
              "            style=\"display:none;\">\n",
              "\n",
              "  <svg xmlns=\"http://www.w3.org/2000/svg\" height=\"24px\" viewBox=\"0 -960 960 960\">\n",
              "    <path d=\"M120-120v-720h720v720H120Zm60-500h600v-160H180v160Zm220 220h160v-160H400v160Zm0 220h160v-160H400v160ZM180-400h160v-160H180v160Zm440 0h160v-160H620v160ZM180-180h160v-160H180v160Zm440 0h160v-160H620v160Z\"/>\n",
              "  </svg>\n",
              "    </button>\n",
              "\n",
              "  <style>\n",
              "    .colab-df-container {\n",
              "      display:flex;\n",
              "      gap: 12px;\n",
              "    }\n",
              "\n",
              "    .colab-df-convert {\n",
              "      background-color: #E8F0FE;\n",
              "      border: none;\n",
              "      border-radius: 50%;\n",
              "      cursor: pointer;\n",
              "      display: none;\n",
              "      fill: #1967D2;\n",
              "      height: 32px;\n",
              "      padding: 0 0 0 0;\n",
              "      width: 32px;\n",
              "    }\n",
              "\n",
              "    .colab-df-convert:hover {\n",
              "      background-color: #E2EBFA;\n",
              "      box-shadow: 0px 1px 2px rgba(60, 64, 67, 0.3), 0px 1px 3px 1px rgba(60, 64, 67, 0.15);\n",
              "      fill: #174EA6;\n",
              "    }\n",
              "\n",
              "    .colab-df-buttons div {\n",
              "      margin-bottom: 4px;\n",
              "    }\n",
              "\n",
              "    [theme=dark] .colab-df-convert {\n",
              "      background-color: #3B4455;\n",
              "      fill: #D2E3FC;\n",
              "    }\n",
              "\n",
              "    [theme=dark] .colab-df-convert:hover {\n",
              "      background-color: #434B5C;\n",
              "      box-shadow: 0px 1px 3px 1px rgba(0, 0, 0, 0.15);\n",
              "      filter: drop-shadow(0px 1px 2px rgba(0, 0, 0, 0.3));\n",
              "      fill: #FFFFFF;\n",
              "    }\n",
              "  </style>\n",
              "\n",
              "    <script>\n",
              "      const buttonEl =\n",
              "        document.querySelector('#df-ef45bc37-6e04-487b-9c13-7478acdebe48 button.colab-df-convert');\n",
              "      buttonEl.style.display =\n",
              "        google.colab.kernel.accessAllowed ? 'block' : 'none';\n",
              "\n",
              "      async function convertToInteractive(key) {\n",
              "        const element = document.querySelector('#df-ef45bc37-6e04-487b-9c13-7478acdebe48');\n",
              "        const dataTable =\n",
              "          await google.colab.kernel.invokeFunction('convertToInteractive',\n",
              "                                                    [key], {});\n",
              "        if (!dataTable) return;\n",
              "\n",
              "        const docLinkHtml = 'Like what you see? Visit the ' +\n",
              "          '<a target=\"_blank\" href=https://colab.research.google.com/notebooks/data_table.ipynb>data table notebook</a>'\n",
              "          + ' to learn more about interactive tables.';\n",
              "        element.innerHTML = '';\n",
              "        dataTable['output_type'] = 'display_data';\n",
              "        await google.colab.output.renderOutput(dataTable, element);\n",
              "        const docLink = document.createElement('div');\n",
              "        docLink.innerHTML = docLinkHtml;\n",
              "        element.appendChild(docLink);\n",
              "      }\n",
              "    </script>\n",
              "  </div>\n",
              "\n",
              "\n",
              "<div id=\"df-89fcdfc8-96c0-4057-b9dd-7cf0d3b15160\">\n",
              "  <button class=\"colab-df-quickchart\" onclick=\"quickchart('df-89fcdfc8-96c0-4057-b9dd-7cf0d3b15160')\"\n",
              "            title=\"Suggest charts\"\n",
              "            style=\"display:none;\">\n",
              "\n",
              "<svg xmlns=\"http://www.w3.org/2000/svg\" height=\"24px\"viewBox=\"0 0 24 24\"\n",
              "     width=\"24px\">\n",
              "    <g>\n",
              "        <path d=\"M19 3H5c-1.1 0-2 .9-2 2v14c0 1.1.9 2 2 2h14c1.1 0 2-.9 2-2V5c0-1.1-.9-2-2-2zM9 17H7v-7h2v7zm4 0h-2V7h2v10zm4 0h-2v-4h2v4z\"/>\n",
              "    </g>\n",
              "</svg>\n",
              "  </button>\n",
              "\n",
              "<style>\n",
              "  .colab-df-quickchart {\n",
              "      --bg-color: #E8F0FE;\n",
              "      --fill-color: #1967D2;\n",
              "      --hover-bg-color: #E2EBFA;\n",
              "      --hover-fill-color: #174EA6;\n",
              "      --disabled-fill-color: #AAA;\n",
              "      --disabled-bg-color: #DDD;\n",
              "  }\n",
              "\n",
              "  [theme=dark] .colab-df-quickchart {\n",
              "      --bg-color: #3B4455;\n",
              "      --fill-color: #D2E3FC;\n",
              "      --hover-bg-color: #434B5C;\n",
              "      --hover-fill-color: #FFFFFF;\n",
              "      --disabled-bg-color: #3B4455;\n",
              "      --disabled-fill-color: #666;\n",
              "  }\n",
              "\n",
              "  .colab-df-quickchart {\n",
              "    background-color: var(--bg-color);\n",
              "    border: none;\n",
              "    border-radius: 50%;\n",
              "    cursor: pointer;\n",
              "    display: none;\n",
              "    fill: var(--fill-color);\n",
              "    height: 32px;\n",
              "    padding: 0;\n",
              "    width: 32px;\n",
              "  }\n",
              "\n",
              "  .colab-df-quickchart:hover {\n",
              "    background-color: var(--hover-bg-color);\n",
              "    box-shadow: 0 1px 2px rgba(60, 64, 67, 0.3), 0 1px 3px 1px rgba(60, 64, 67, 0.15);\n",
              "    fill: var(--button-hover-fill-color);\n",
              "  }\n",
              "\n",
              "  .colab-df-quickchart-complete:disabled,\n",
              "  .colab-df-quickchart-complete:disabled:hover {\n",
              "    background-color: var(--disabled-bg-color);\n",
              "    fill: var(--disabled-fill-color);\n",
              "    box-shadow: none;\n",
              "  }\n",
              "\n",
              "  .colab-df-spinner {\n",
              "    border: 2px solid var(--fill-color);\n",
              "    border-color: transparent;\n",
              "    border-bottom-color: var(--fill-color);\n",
              "    animation:\n",
              "      spin 1s steps(1) infinite;\n",
              "  }\n",
              "\n",
              "  @keyframes spin {\n",
              "    0% {\n",
              "      border-color: transparent;\n",
              "      border-bottom-color: var(--fill-color);\n",
              "      border-left-color: var(--fill-color);\n",
              "    }\n",
              "    20% {\n",
              "      border-color: transparent;\n",
              "      border-left-color: var(--fill-color);\n",
              "      border-top-color: var(--fill-color);\n",
              "    }\n",
              "    30% {\n",
              "      border-color: transparent;\n",
              "      border-left-color: var(--fill-color);\n",
              "      border-top-color: var(--fill-color);\n",
              "      border-right-color: var(--fill-color);\n",
              "    }\n",
              "    40% {\n",
              "      border-color: transparent;\n",
              "      border-right-color: var(--fill-color);\n",
              "      border-top-color: var(--fill-color);\n",
              "    }\n",
              "    60% {\n",
              "      border-color: transparent;\n",
              "      border-right-color: var(--fill-color);\n",
              "    }\n",
              "    80% {\n",
              "      border-color: transparent;\n",
              "      border-right-color: var(--fill-color);\n",
              "      border-bottom-color: var(--fill-color);\n",
              "    }\n",
              "    90% {\n",
              "      border-color: transparent;\n",
              "      border-bottom-color: var(--fill-color);\n",
              "    }\n",
              "  }\n",
              "</style>\n",
              "\n",
              "  <script>\n",
              "    async function quickchart(key) {\n",
              "      const quickchartButtonEl =\n",
              "        document.querySelector('#' + key + ' button');\n",
              "      quickchartButtonEl.disabled = true;  // To prevent multiple clicks.\n",
              "      quickchartButtonEl.classList.add('colab-df-spinner');\n",
              "      try {\n",
              "        const charts = await google.colab.kernel.invokeFunction(\n",
              "            'suggestCharts', [key], {});\n",
              "      } catch (error) {\n",
              "        console.error('Error during call to suggestCharts:', error);\n",
              "      }\n",
              "      quickchartButtonEl.classList.remove('colab-df-spinner');\n",
              "      quickchartButtonEl.classList.add('colab-df-quickchart-complete');\n",
              "    }\n",
              "    (() => {\n",
              "      let quickchartButtonEl =\n",
              "        document.querySelector('#df-89fcdfc8-96c0-4057-b9dd-7cf0d3b15160 button');\n",
              "      quickchartButtonEl.style.display =\n",
              "        google.colab.kernel.accessAllowed ? 'block' : 'none';\n",
              "    })();\n",
              "  </script>\n",
              "</div>\n",
              "\n",
              "    </div>\n",
              "  </div>\n"
            ],
            "application/vnd.google.colaboratory.intrinsic+json": {
              "type": "dataframe",
              "variable_name": "data",
              "summary": "{\n  \"name\": \"data\",\n  \"rows\": 35,\n  \"fields\": [\n    {\n      \"column\": \"Diameter\",\n      \"properties\": {\n        \"dtype\": \"number\",\n        \"std\": 0.343400647063108,\n        \"min\": 6.038,\n        \"max\": 7.5459,\n        \"num_unique_values\": 35,\n        \"samples\": [\n          7.0133,\n          6.038,\n          6.7594\n        ],\n        \"semantic_type\": \"\",\n        \"description\": \"\"\n      }\n    }\n  ]\n}"
            }
          },
          "metadata": {},
          "execution_count": 15
        }
      ]
    },
    {
      "cell_type": "code",
      "source": [
        "# Defining Null and Alternative Hypotheses\n",
        "H0 = 'Data is normal'\n",
        "Ha = 'Data is not normal'\n",
        "# Set the level of significance\n",
        "alpha = 0.05\n",
        "\n",
        "# Run Shapiro test to check normality\n",
        "from scipy.stats import shapiro\n",
        "p = round(shapiro(data)[1], 2)"
      ],
      "metadata": {
        "id": "EdWocJnzhDpN"
      },
      "execution_count": null,
      "outputs": []
    },
    {
      "cell_type": "code",
      "source": [
        "# Draw conclusions\n",
        "if p > alpha:\n",
        "    print(f\"{p} > {alpha}. We fail to reject Null Hypothesis. {H0}\")\n",
        "else:\n",
        "\tprint(f\"{p} <= {alpha}. We reject Null Hypothesis. {Ha}\")"
      ],
      "metadata": {
        "colab": {
          "base_uri": "https://localhost:8080/"
        },
        "id": "wtRo6h42hWLd",
        "outputId": "e05e2c61-3217-4f58-9d5d-cdd0e06df969"
      },
      "execution_count": null,
      "outputs": [
        {
          "output_type": "stream",
          "name": "stdout",
          "text": [
            "0.52 > 0.05. We fail to reject Null Hypothesis. Data is normal\n"
          ]
        }
      ]
    },
    {
      "cell_type": "markdown",
      "source": [
        "# **Pizza Dataset**"
      ],
      "metadata": {
        "id": "YxWsk95-hiTd"
      }
    },
    {
      "cell_type": "code",
      "source": [
        "import pandas as pd\n",
        "pizzas = pd.read_csv('pizzas.csv')\n",
        "pizzas.head()"
      ],
      "metadata": {
        "colab": {
          "base_uri": "https://localhost:8080/",
          "height": 206
        },
        "id": "IxDwGVOWhhO2",
        "outputId": "b84b82f5-05e5-4cb1-a304-e13102aa54f3"
      },
      "execution_count": null,
      "outputs": [
        {
          "output_type": "execute_result",
          "data": {
            "text/plain": [
              "   Making Unit 1  Making Unit 2\n",
              "0         6.8090         6.7703\n",
              "1         6.4376         7.5093\n",
              "2         6.9157         6.7300\n",
              "3         7.3012         6.7878\n",
              "4         7.4488         7.1522"
            ],
            "text/html": [
              "\n",
              "  <div id=\"df-3a504bae-e822-4922-aff5-4991e16e1f93\" class=\"colab-df-container\">\n",
              "    <div>\n",
              "<style scoped>\n",
              "    .dataframe tbody tr th:only-of-type {\n",
              "        vertical-align: middle;\n",
              "    }\n",
              "\n",
              "    .dataframe tbody tr th {\n",
              "        vertical-align: top;\n",
              "    }\n",
              "\n",
              "    .dataframe thead th {\n",
              "        text-align: right;\n",
              "    }\n",
              "</style>\n",
              "<table border=\"1\" class=\"dataframe\">\n",
              "  <thead>\n",
              "    <tr style=\"text-align: right;\">\n",
              "      <th></th>\n",
              "      <th>Making Unit 1</th>\n",
              "      <th>Making Unit 2</th>\n",
              "    </tr>\n",
              "  </thead>\n",
              "  <tbody>\n",
              "    <tr>\n",
              "      <th>0</th>\n",
              "      <td>6.8090</td>\n",
              "      <td>6.7703</td>\n",
              "    </tr>\n",
              "    <tr>\n",
              "      <th>1</th>\n",
              "      <td>6.4376</td>\n",
              "      <td>7.5093</td>\n",
              "    </tr>\n",
              "    <tr>\n",
              "      <th>2</th>\n",
              "      <td>6.9157</td>\n",
              "      <td>6.7300</td>\n",
              "    </tr>\n",
              "    <tr>\n",
              "      <th>3</th>\n",
              "      <td>7.3012</td>\n",
              "      <td>6.7878</td>\n",
              "    </tr>\n",
              "    <tr>\n",
              "      <th>4</th>\n",
              "      <td>7.4488</td>\n",
              "      <td>7.1522</td>\n",
              "    </tr>\n",
              "  </tbody>\n",
              "</table>\n",
              "</div>\n",
              "    <div class=\"colab-df-buttons\">\n",
              "\n",
              "  <div class=\"colab-df-container\">\n",
              "    <button class=\"colab-df-convert\" onclick=\"convertToInteractive('df-3a504bae-e822-4922-aff5-4991e16e1f93')\"\n",
              "            title=\"Convert this dataframe to an interactive table.\"\n",
              "            style=\"display:none;\">\n",
              "\n",
              "  <svg xmlns=\"http://www.w3.org/2000/svg\" height=\"24px\" viewBox=\"0 -960 960 960\">\n",
              "    <path d=\"M120-120v-720h720v720H120Zm60-500h600v-160H180v160Zm220 220h160v-160H400v160Zm0 220h160v-160H400v160ZM180-400h160v-160H180v160Zm440 0h160v-160H620v160ZM180-180h160v-160H180v160Zm440 0h160v-160H620v160Z\"/>\n",
              "  </svg>\n",
              "    </button>\n",
              "\n",
              "  <style>\n",
              "    .colab-df-container {\n",
              "      display:flex;\n",
              "      gap: 12px;\n",
              "    }\n",
              "\n",
              "    .colab-df-convert {\n",
              "      background-color: #E8F0FE;\n",
              "      border: none;\n",
              "      border-radius: 50%;\n",
              "      cursor: pointer;\n",
              "      display: none;\n",
              "      fill: #1967D2;\n",
              "      height: 32px;\n",
              "      padding: 0 0 0 0;\n",
              "      width: 32px;\n",
              "    }\n",
              "\n",
              "    .colab-df-convert:hover {\n",
              "      background-color: #E2EBFA;\n",
              "      box-shadow: 0px 1px 2px rgba(60, 64, 67, 0.3), 0px 1px 3px 1px rgba(60, 64, 67, 0.15);\n",
              "      fill: #174EA6;\n",
              "    }\n",
              "\n",
              "    .colab-df-buttons div {\n",
              "      margin-bottom: 4px;\n",
              "    }\n",
              "\n",
              "    [theme=dark] .colab-df-convert {\n",
              "      background-color: #3B4455;\n",
              "      fill: #D2E3FC;\n",
              "    }\n",
              "\n",
              "    [theme=dark] .colab-df-convert:hover {\n",
              "      background-color: #434B5C;\n",
              "      box-shadow: 0px 1px 3px 1px rgba(0, 0, 0, 0.15);\n",
              "      filter: drop-shadow(0px 1px 2px rgba(0, 0, 0, 0.3));\n",
              "      fill: #FFFFFF;\n",
              "    }\n",
              "  </style>\n",
              "\n",
              "    <script>\n",
              "      const buttonEl =\n",
              "        document.querySelector('#df-3a504bae-e822-4922-aff5-4991e16e1f93 button.colab-df-convert');\n",
              "      buttonEl.style.display =\n",
              "        google.colab.kernel.accessAllowed ? 'block' : 'none';\n",
              "\n",
              "      async function convertToInteractive(key) {\n",
              "        const element = document.querySelector('#df-3a504bae-e822-4922-aff5-4991e16e1f93');\n",
              "        const dataTable =\n",
              "          await google.colab.kernel.invokeFunction('convertToInteractive',\n",
              "                                                    [key], {});\n",
              "        if (!dataTable) return;\n",
              "\n",
              "        const docLinkHtml = 'Like what you see? Visit the ' +\n",
              "          '<a target=\"_blank\" href=https://colab.research.google.com/notebooks/data_table.ipynb>data table notebook</a>'\n",
              "          + ' to learn more about interactive tables.';\n",
              "        element.innerHTML = '';\n",
              "        dataTable['output_type'] = 'display_data';\n",
              "        await google.colab.output.renderOutput(dataTable, element);\n",
              "        const docLink = document.createElement('div');\n",
              "        docLink.innerHTML = docLinkHtml;\n",
              "        element.appendChild(docLink);\n",
              "      }\n",
              "    </script>\n",
              "  </div>\n",
              "\n",
              "\n",
              "<div id=\"df-fdadaf0a-eb6a-4ce3-bd7a-c36adefa694b\">\n",
              "  <button class=\"colab-df-quickchart\" onclick=\"quickchart('df-fdadaf0a-eb6a-4ce3-bd7a-c36adefa694b')\"\n",
              "            title=\"Suggest charts\"\n",
              "            style=\"display:none;\">\n",
              "\n",
              "<svg xmlns=\"http://www.w3.org/2000/svg\" height=\"24px\"viewBox=\"0 0 24 24\"\n",
              "     width=\"24px\">\n",
              "    <g>\n",
              "        <path d=\"M19 3H5c-1.1 0-2 .9-2 2v14c0 1.1.9 2 2 2h14c1.1 0 2-.9 2-2V5c0-1.1-.9-2-2-2zM9 17H7v-7h2v7zm4 0h-2V7h2v10zm4 0h-2v-4h2v4z\"/>\n",
              "    </g>\n",
              "</svg>\n",
              "  </button>\n",
              "\n",
              "<style>\n",
              "  .colab-df-quickchart {\n",
              "      --bg-color: #E8F0FE;\n",
              "      --fill-color: #1967D2;\n",
              "      --hover-bg-color: #E2EBFA;\n",
              "      --hover-fill-color: #174EA6;\n",
              "      --disabled-fill-color: #AAA;\n",
              "      --disabled-bg-color: #DDD;\n",
              "  }\n",
              "\n",
              "  [theme=dark] .colab-df-quickchart {\n",
              "      --bg-color: #3B4455;\n",
              "      --fill-color: #D2E3FC;\n",
              "      --hover-bg-color: #434B5C;\n",
              "      --hover-fill-color: #FFFFFF;\n",
              "      --disabled-bg-color: #3B4455;\n",
              "      --disabled-fill-color: #666;\n",
              "  }\n",
              "\n",
              "  .colab-df-quickchart {\n",
              "    background-color: var(--bg-color);\n",
              "    border: none;\n",
              "    border-radius: 50%;\n",
              "    cursor: pointer;\n",
              "    display: none;\n",
              "    fill: var(--fill-color);\n",
              "    height: 32px;\n",
              "    padding: 0;\n",
              "    width: 32px;\n",
              "  }\n",
              "\n",
              "  .colab-df-quickchart:hover {\n",
              "    background-color: var(--hover-bg-color);\n",
              "    box-shadow: 0 1px 2px rgba(60, 64, 67, 0.3), 0 1px 3px 1px rgba(60, 64, 67, 0.15);\n",
              "    fill: var(--button-hover-fill-color);\n",
              "  }\n",
              "\n",
              "  .colab-df-quickchart-complete:disabled,\n",
              "  .colab-df-quickchart-complete:disabled:hover {\n",
              "    background-color: var(--disabled-bg-color);\n",
              "    fill: var(--disabled-fill-color);\n",
              "    box-shadow: none;\n",
              "  }\n",
              "\n",
              "  .colab-df-spinner {\n",
              "    border: 2px solid var(--fill-color);\n",
              "    border-color: transparent;\n",
              "    border-bottom-color: var(--fill-color);\n",
              "    animation:\n",
              "      spin 1s steps(1) infinite;\n",
              "  }\n",
              "\n",
              "  @keyframes spin {\n",
              "    0% {\n",
              "      border-color: transparent;\n",
              "      border-bottom-color: var(--fill-color);\n",
              "      border-left-color: var(--fill-color);\n",
              "    }\n",
              "    20% {\n",
              "      border-color: transparent;\n",
              "      border-left-color: var(--fill-color);\n",
              "      border-top-color: var(--fill-color);\n",
              "    }\n",
              "    30% {\n",
              "      border-color: transparent;\n",
              "      border-left-color: var(--fill-color);\n",
              "      border-top-color: var(--fill-color);\n",
              "      border-right-color: var(--fill-color);\n",
              "    }\n",
              "    40% {\n",
              "      border-color: transparent;\n",
              "      border-right-color: var(--fill-color);\n",
              "      border-top-color: var(--fill-color);\n",
              "    }\n",
              "    60% {\n",
              "      border-color: transparent;\n",
              "      border-right-color: var(--fill-color);\n",
              "    }\n",
              "    80% {\n",
              "      border-color: transparent;\n",
              "      border-right-color: var(--fill-color);\n",
              "      border-bottom-color: var(--fill-color);\n",
              "    }\n",
              "    90% {\n",
              "      border-color: transparent;\n",
              "      border-bottom-color: var(--fill-color);\n",
              "    }\n",
              "  }\n",
              "</style>\n",
              "\n",
              "  <script>\n",
              "    async function quickchart(key) {\n",
              "      const quickchartButtonEl =\n",
              "        document.querySelector('#' + key + ' button');\n",
              "      quickchartButtonEl.disabled = true;  // To prevent multiple clicks.\n",
              "      quickchartButtonEl.classList.add('colab-df-spinner');\n",
              "      try {\n",
              "        const charts = await google.colab.kernel.invokeFunction(\n",
              "            'suggestCharts', [key], {});\n",
              "      } catch (error) {\n",
              "        console.error('Error during call to suggestCharts:', error);\n",
              "      }\n",
              "      quickchartButtonEl.classList.remove('colab-df-spinner');\n",
              "      quickchartButtonEl.classList.add('colab-df-quickchart-complete');\n",
              "    }\n",
              "    (() => {\n",
              "      let quickchartButtonEl =\n",
              "        document.querySelector('#df-fdadaf0a-eb6a-4ce3-bd7a-c36adefa694b button');\n",
              "      quickchartButtonEl.style.display =\n",
              "        google.colab.kernel.accessAllowed ? 'block' : 'none';\n",
              "    })();\n",
              "  </script>\n",
              "</div>\n",
              "\n",
              "    </div>\n",
              "  </div>\n"
            ],
            "application/vnd.google.colaboratory.intrinsic+json": {
              "type": "dataframe",
              "variable_name": "pizzas",
              "summary": "{\n  \"name\": \"pizzas\",\n  \"rows\": 35,\n  \"fields\": [\n    {\n      \"column\": \"Making Unit 1\",\n      \"properties\": {\n        \"dtype\": \"number\",\n        \"std\": 0.2884084841815496,\n        \"min\": 6.4376,\n        \"max\": 7.5169,\n        \"num_unique_values\": 35,\n        \"samples\": [\n          7.2163,\n          6.9256,\n          6.9952\n        ],\n        \"semantic_type\": \"\",\n        \"description\": \"\"\n      }\n    },\n    {\n      \"column\": \"Making Unit 2\",\n      \"properties\": {\n        \"dtype\": \"number\",\n        \"std\": 0.343400647063108,\n        \"min\": 6.038,\n        \"max\": 7.5459,\n        \"num_unique_values\": 35,\n        \"samples\": [\n          7.0133,\n          6.038,\n          6.7594\n        ],\n        \"semantic_type\": \"\",\n        \"description\": \"\"\n      }\n    }\n  ]\n}"
            }
          },
          "metadata": {},
          "execution_count": 27
        }
      ]
    },
    {
      "cell_type": "code",
      "source": [
        "import pandas as pd\n",
        "from scipy.stats import shapiro\n",
        "\n",
        "# Example DataFrame (replace with actual data)\n",
        "pizzas = pd.DataFrame({\n",
        "    'Unit_1': [10.2, 10.4, 10.3, 10.6, 10.5],\n",
        "    'Unit_2': [10.0, 10.1, 10.2, 10.3, 10.0]\n",
        "})\n",
        "\n",
        "# Set the level of significance\n",
        "alpha = 0.05"
      ],
      "metadata": {
        "id": "KDA-yx7FiGJW"
      },
      "execution_count": null,
      "outputs": []
    },
    {
      "cell_type": "code",
      "source": [
        "# Defining Null and Alternative Hypotheses\n",
        "H0 = 'data is Normally distributed'\n",
        "Ha = 'data is not Normally distributed'\n",
        "\n",
        "from scipy.stats import shapiro\n",
        "def check_normality(df):\n",
        "\tfor columnName, columnData in pizzas.items():\n",
        "\t\tprint('\\n' + \"*** Shapiro Test Results of '{}' ***\".format(columnName))\n",
        "\t\tp = round(shapiro(columnData.values)[1], 2)\n",
        "\n",
        "\t\tif p>alpha:\n",
        "\t\t\tprint(f\"{p} > {alpha}. We fail to reject Null Hypothesis. '{columnName}' {H0}\")\n",
        "\t\telse:\n",
        "\t\t\tprint(f\"{p} <= {alpha}. We reject Null Hypothesis. '{columnName}' {Ha}\")\n",
        "\n",
        "check_normality(pizzas)"
      ],
      "metadata": {
        "colab": {
          "base_uri": "https://localhost:8080/"
        },
        "id": "iv-VJ_AljA8u",
        "outputId": "1a8d463c-09bb-4b95-fa28-f85ae46b5e38"
      },
      "execution_count": null,
      "outputs": [
        {
          "output_type": "stream",
          "name": "stdout",
          "text": [
            "\n",
            "*** Shapiro Test Results of 'Unit_1' ***\n",
            "0.97 > 0.05. We fail to reject Null Hypothesis. 'Unit_1' data is Normally distributed\n",
            "\n",
            "*** Shapiro Test Results of 'Unit_2' ***\n",
            "0.42 > 0.05. We fail to reject Null Hypothesis. 'Unit_2' data is Normally distributed\n"
          ]
        }
      ]
    },
    {
      "source": [
        "H0 = 'Variances are equal'\n",
        "Ha = 'Variances are not equal'\n",
        "\n",
        "from scipy.stats import levene\n",
        "def check_variances(df):\n",
        "\tprint('\\n' + \"*** Variances Test Results' ***\")\n",
        "\t# Changed 'Making Unit 1' to 'Unit_1' and 'Unit_2'\n",
        "\tp = round(levene(pizzas['Unit_1'], pizzas['Unit_2'])[1],2)\n",
        "\n",
        "\tif p>alpha:\n",
        "\t\tprint(f\"{p} > {alpha}. We fail to reject Null Hypothesis. {H0}\")\n",
        "\telse:\n",
        "\t\tprint(f\"{p} <= {alpha}. We reject Null Hypothesis. {Ha}\")\n",
        "\n",
        "check_variances(pizzas)"
      ],
      "cell_type": "code",
      "metadata": {
        "colab": {
          "base_uri": "https://localhost:8080/"
        },
        "id": "3vPV03ZRkoyt",
        "outputId": "fa2cf0ae-dad7-4719-c00b-c4caa39cb280"
      },
      "execution_count": null,
      "outputs": [
        {
          "output_type": "stream",
          "name": "stdout",
          "text": [
            "\n",
            "*** Variances Test Results' ***\n",
            "0.69 > 0.05. We fail to reject Null Hypothesis. Variances are equal\n"
          ]
        }
      ]
    },
    {
      "cell_type": "code",
      "source": [
        "\n",
        "\n",
        "\n",
        "\n"
      ],
      "metadata": {
        "id": "7knodODQlUtM"
      },
      "execution_count": null,
      "outputs": []
    },
    {
      "source": [
        "from scipy.stats import ttest_ind\n",
        "H0 = 'There is no significant difference.'\n",
        "Ha = 'There exist a significant difference.'\n",
        "\n",
        "def t_test(df):\n",
        "    print('\\n' + \"*** 2 Sample T Test Results ***\")\n",
        "    # Changed 'Making Unit 1' to 'Unit_1' and 'Unit_2' to perform t-test on these columns\n",
        "    test_results = ttest_ind(pizzas['Unit_1'], pizzas['Unit_2'], equal_var=True)\n",
        "\n",
        "    p = round(test_results[1],2)\n",
        "\n",
        "    if p>alpha:\n",
        "        print(f\"{p} > {alpha}. We fail to reject Null Hypothesis. {H0}\")\n",
        "    else:\n",
        "        print(f\"{p} <= {alpha}. We reject Null Hypothesis. {Ha}\")\n",
        "\n",
        "t_test(pizzas)"
      ],
      "cell_type": "code",
      "metadata": {
        "colab": {
          "base_uri": "https://localhost:8080/"
        },
        "id": "ER5edlGrk34t",
        "outputId": "f42e9626-5688-4d25-e59b-43653466b06f"
      },
      "execution_count": null,
      "outputs": [
        {
          "output_type": "stream",
          "name": "stdout",
          "text": [
            "\n",
            "*** 2 Sample T Test Results ***\n",
            "0.02 <= 0.05. We reject Null Hypothesis. There exist a significant difference.\n"
          ]
        }
      ]
    }
  ]
}