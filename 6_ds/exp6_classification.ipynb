{
  "nbformat": 4,
  "nbformat_minor": 0,
  "metadata": {
    "colab": {
      "provenance": []
    },
    "kernelspec": {
      "name": "python3",
      "display_name": "Python 3"
    },
    "language_info": {
      "name": "python"
    }
  },
  "cells": [
    {
      "cell_type": "markdown",
      "source": [
        "Kruti Bagwe Roll no.05 TE INFT-A Batch-1"
      ],
      "metadata": {
        "id": "mrhnBmJpt9Ah"
      }
    },
    {
      "cell_type": "markdown",
      "source": [
        "# **Experiment 6 - Classification**"
      ],
      "metadata": {
        "id": "LE2hN0QJuCn4"
      }
    },
    {
      "cell_type": "code",
      "source": [
        "import pandas as pd\n",
        "import numpy as np\n",
        "import sklearn\n",
        "from sklearn.preprocessing import LabelEncoder, StandardScaler\n",
        "from sklearn.model_selection import train_test_split, cross_val_score, GridSearchCV\n",
        "from sklearn.naive_bayes import GaussianNB\n",
        "from sklearn.metrics import accuracy_score\n",
        "\n",
        "# Load the data\n",
        "loan_data = pd.read_csv('loan_data.csv')\n",
        "\n",
        "# Selecting relevant columns\n",
        "loan_data = loan_data[['person_gender', 'person_education', 'person_home_ownership', 'loan_amnt',\n",
        "                       'loan_int_rate', 'loan_percent_income', 'credit_score', 'loan_status']]\n",
        "\n",
        "# Handling missing values by filling with mean for numeric columns\n",
        "loan_data['loan_amnt'].fillna(loan_data['loan_amnt'].mean(), inplace=True)\n",
        "loan_data['loan_int_rate'].fillna(loan_data['loan_int_rate'].mean(), inplace=True)\n",
        "loan_data['loan_percent_income'].fillna(loan_data['loan_percent_income'].mean(), inplace=True)\n",
        "loan_data['credit_score'].fillna(loan_data['credit_score'].mean(), inplace=True)\n",
        "\n",
        "# Label encoding for categorical columns\n",
        "label_encoder = LabelEncoder()\n",
        "loan_data['person_gender'] = label_encoder.fit_transform(loan_data['person_gender'].astype(str))\n",
        "loan_data['person_education'] = label_encoder.fit_transform(loan_data['person_education'].astype(str))\n",
        "loan_data['person_home_ownership'] = label_encoder.fit_transform(loan_data['person_home_ownership'].astype(str))\n",
        "loan_data['loan_status'] = label_encoder.fit_transform(loan_data['loan_status'].astype(str))\n",
        "\n",
        "# Define the features (X) and target (y)\n",
        "X = loan_data.drop('loan_status', axis=1)\n",
        "y = loan_data['loan_status']\n",
        "\n",
        "# Scale the features (important for Naive Bayes)\n",
        "scaler = StandardScaler()\n",
        "X_scaled = scaler.fit_transform(X)\n",
        "\n",
        "# Split the data into training and testing sets (80% train, 20% test)\n",
        "X_train, X_test, y_train, y_test = train_test_split(X_scaled, y, test_size=0.2, random_state=42)\n",
        "\n",
        "# 1. Gaussian Naive Bayes Model with GridSearchCV for hyperparameter tuning\n",
        "param_grid = {'var_smoothing': [1e-9, 1e-8, 1e-7, 1e-6]}  # Hyperparameter tuning for GaussianNB\n",
        "grid_search = GridSearchCV(GaussianNB(), param_grid, cv=5)\n",
        "grid_search.fit(X_train, y_train)\n",
        "\n",
        "# Best Naive Bayes Model\n",
        "best_naive_bayes = grid_search.best_estimator_\n",
        "y_pred_nb = best_naive_bayes.predict(X_test)\n",
        "accuracy_nb = accuracy_score(y_test, y_pred_nb)\n",
        "\n",
        "print(\"OUTPUT: \")\n",
        "print(\"\\nNaive Bayes Accuracy: \", accuracy_nb)\n",
        "\n",
        "# 2. Cross-Validation for better estimation\n",
        "cv_scores_nb = cross_val_score(best_naive_bayes, X_scaled, y, cv=5)\n",
        "\n",
        "#print(\"Naive Bayes Cross-Validation Accuracy: \", cv_scores_nb.mean(), \"±\", cv_scores_nb.std())"
      ],
      "metadata": {
        "colab": {
          "base_uri": "https://localhost:8080/"
        },
        "id": "DEWpFd_j5-3t",
        "outputId": "c64807f5-6fc5-49ae-8a7b-1fda676ee688"
      },
      "execution_count": null,
      "outputs": [
        {
          "output_type": "stream",
          "name": "stdout",
          "text": [
            "OUTPUT: \n",
            "\n",
            "Naive Bayes Accuracy:  0.8258888888888889\n"
          ]
        }
      ]
    }
  ]
}